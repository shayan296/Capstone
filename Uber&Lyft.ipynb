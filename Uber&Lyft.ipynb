{
 "cells": [
  {
   "cell_type": "code",
   "execution_count": 1,
   "metadata": {},
   "outputs": [],
   "source": [
    "# import packages \n",
    "import pandas as pd \n",
    "import numpy as np \n",
    "import matplotlib.pyplot as plt \n",
    "from sklearn.model_selection import train_test_split\n",
    "from sklearn.preprocessing import StandardScaler\n",
    "\n",
    "from sklearn.linear_model import LinearRegression"
   ]
  },
  {
   "cell_type": "code",
   "execution_count": 2,
   "metadata": {},
   "outputs": [],
   "source": [
    "Ridedata = pd.read_csv('/Users/shayansorooshian/Downloads/archive/cab_rides.csv')\n",
    "Weatherdata = pd.read_csv('/Users/shayansorooshian/Downloads/archive/weather.csv')"
   ]
  },
  {
   "cell_type": "code",
   "execution_count": 3,
   "metadata": {},
   "outputs": [
    {
     "data": {
      "text/plain": [
       "<bound method DataFrame.info of         distance cab_type     time_stamp    destination            source  \\\n",
       "0           0.44     Lyft  1544952607890  North Station  Haymarket Square   \n",
       "1           0.44     Lyft  1543284023677  North Station  Haymarket Square   \n",
       "2           0.44     Lyft  1543366822198  North Station  Haymarket Square   \n",
       "3           0.44     Lyft  1543553582749  North Station  Haymarket Square   \n",
       "4           0.44     Lyft  1543463360223  North Station  Haymarket Square   \n",
       "...          ...      ...            ...            ...               ...   \n",
       "693066      1.00     Uber  1543708385534      North End          West End   \n",
       "693067      1.00     Uber  1543708385534      North End          West End   \n",
       "693068      1.00     Uber  1543708385534      North End          West End   \n",
       "693069      1.00     Uber  1543708385534      North End          West End   \n",
       "693070      1.00     Uber  1543708385534      North End          West End   \n",
       "\n",
       "        price  surge_multiplier                                    id  \\\n",
       "0         5.0               1.0  424553bb-7174-41ea-aeb4-fe06d4f4b9d7   \n",
       "1        11.0               1.0  4bd23055-6827-41c6-b23b-3c491f24e74d   \n",
       "2         7.0               1.0  981a3613-77af-4620-a42a-0c0866077d1e   \n",
       "3        26.0               1.0  c2d88af2-d278-4bfd-a8d0-29ca77cc5512   \n",
       "4         9.0               1.0  e0126e1f-8ca9-4f2e-82b3-50505a09db9a   \n",
       "...       ...               ...                                   ...   \n",
       "693066   13.0               1.0  616d3611-1820-450a-9845-a9ff304a4842   \n",
       "693067    9.5               1.0  633a3fc3-1f86-4b9e-9d48-2b7132112341   \n",
       "693068    NaN               1.0  64d451d0-639f-47a4-9b7c-6fd92fbd264f   \n",
       "693069   27.0               1.0  727e5f07-a96b-4ad1-a2c7-9abc3ad55b4e   \n",
       "693070   10.0               1.0  e7fdc087-fe86-40a5-a3c3-3b2a8badcbda   \n",
       "\n",
       "                                  product_id          name  \n",
       "0                                  lyft_line        Shared  \n",
       "1                               lyft_premier           Lux  \n",
       "2                                       lyft          Lyft  \n",
       "3                                lyft_luxsuv  Lux Black XL  \n",
       "4                                  lyft_plus       Lyft XL  \n",
       "...                                      ...           ...  \n",
       "693066  6f72dfc5-27f1-42e8-84db-ccc7a75f6969        UberXL  \n",
       "693067  55c66225-fbe7-4fd5-9072-eab1ece5e23e         UberX  \n",
       "693068  8cf7e821-f0d3-49c6-8eba-e679c0ebcf6a          Taxi  \n",
       "693069  6d318bcc-22a3-4af6-bddd-b409bfce1546     Black SUV  \n",
       "693070  997acbb5-e102-41e1-b155-9df7de0a73f2      UberPool  \n",
       "\n",
       "[693071 rows x 10 columns]>"
      ]
     },
     "execution_count": 3,
     "metadata": {},
     "output_type": "execute_result"
    }
   ],
   "source": [
    "Ridedata.info"
   ]
  },
  {
   "cell_type": "code",
   "execution_count": 4,
   "metadata": {},
   "outputs": [
    {
     "data": {
      "text/plain": [
       "<bound method DataFrame.info of        temp                 location  clouds  pressure    rain  time_stamp  \\\n",
       "0     42.42                 Back Bay    1.00   1012.14  0.1228  1545003901   \n",
       "1     42.43              Beacon Hill    1.00   1012.15  0.1846  1545003901   \n",
       "2     42.50        Boston University    1.00   1012.15  0.1089  1545003901   \n",
       "3     42.11                   Fenway    1.00   1012.13  0.0969  1545003901   \n",
       "4     43.13       Financial District    1.00   1012.14  0.1786  1545003901   \n",
       "...     ...                      ...     ...       ...     ...         ...   \n",
       "6271  44.72            North Station    0.89   1000.69     NaN  1543819974   \n",
       "6272  44.85  Northeastern University    0.88   1000.71     NaN  1543819974   \n",
       "6273  44.82            South Station    0.89   1000.70     NaN  1543819974   \n",
       "6274  44.78         Theatre District    0.89   1000.70     NaN  1543819974   \n",
       "6275  44.69                 West End    0.89   1000.70     NaN  1543819974   \n",
       "\n",
       "      humidity   wind  \n",
       "0         0.77  11.25  \n",
       "1         0.76  11.32  \n",
       "2         0.76  11.07  \n",
       "3         0.77  11.09  \n",
       "4         0.75  11.49  \n",
       "...        ...    ...  \n",
       "6271      0.96   1.52  \n",
       "6272      0.96   1.54  \n",
       "6273      0.96   1.54  \n",
       "6274      0.96   1.54  \n",
       "6275      0.96   1.52  \n",
       "\n",
       "[6276 rows x 8 columns]>"
      ]
     },
     "execution_count": 4,
     "metadata": {},
     "output_type": "execute_result"
    }
   ],
   "source": [
    "Weatherdata.info"
   ]
  },
  {
   "cell_type": "code",
   "execution_count": 5,
   "metadata": {},
   "outputs": [
    {
     "data": {
      "text/plain": [
       "distance                0\n",
       "cab_type                0\n",
       "time_stamp              0\n",
       "destination             0\n",
       "source                  0\n",
       "price               55095\n",
       "surge_multiplier        0\n",
       "id                      0\n",
       "product_id              0\n",
       "name                    0\n",
       "dtype: int64"
      ]
     },
     "execution_count": 5,
     "metadata": {},
     "output_type": "execute_result"
    }
   ],
   "source": [
    "Ridedata.isna().sum()"
   ]
  },
  {
   "cell_type": "code",
   "execution_count": 6,
   "metadata": {},
   "outputs": [],
   "source": [
    "Ridedata = Ridedata.dropna(axis=0)"
   ]
  },
  {
   "cell_type": "code",
   "execution_count": 7,
   "metadata": {},
   "outputs": [
    {
     "data": {
      "text/plain": [
       "temp             0\n",
       "location         0\n",
       "clouds           0\n",
       "pressure         0\n",
       "rain          5382\n",
       "time_stamp       0\n",
       "humidity         0\n",
       "wind             0\n",
       "dtype: int64"
      ]
     },
     "execution_count": 7,
     "metadata": {},
     "output_type": "execute_result"
    }
   ],
   "source": [
    "Weatherdata.isna().sum()"
   ]
  },
  {
   "cell_type": "code",
   "execution_count": 8,
   "metadata": {},
   "outputs": [],
   "source": [
    "Weatherdata = Weatherdata.fillna(0)"
   ]
  },
  {
   "cell_type": "code",
   "execution_count": 9,
   "metadata": {},
   "outputs": [
    {
     "data": {
      "text/plain": [
       "temp          0\n",
       "location      0\n",
       "clouds        0\n",
       "pressure      0\n",
       "rain          0\n",
       "time_stamp    0\n",
       "humidity      0\n",
       "wind          0\n",
       "dtype: int64"
      ]
     },
     "execution_count": 9,
     "metadata": {},
     "output_type": "execute_result"
    }
   ],
   "source": [
    "Weatherdata.isna().sum()"
   ]
  },
  {
   "cell_type": "code",
   "execution_count": 10,
   "metadata": {},
   "outputs": [
    {
     "data": {
      "text/html": [
       "<div>\n",
       "<style scoped>\n",
       "    .dataframe tbody tr th:only-of-type {\n",
       "        vertical-align: middle;\n",
       "    }\n",
       "\n",
       "    .dataframe tbody tr th {\n",
       "        vertical-align: top;\n",
       "    }\n",
       "\n",
       "    .dataframe thead th {\n",
       "        text-align: right;\n",
       "    }\n",
       "</style>\n",
       "<table border=\"1\" class=\"dataframe\">\n",
       "  <thead>\n",
       "    <tr style=\"text-align: right;\">\n",
       "      <th></th>\n",
       "      <th>temp</th>\n",
       "      <th>clouds</th>\n",
       "      <th>pressure</th>\n",
       "      <th>rain</th>\n",
       "      <th>time_stamp</th>\n",
       "      <th>humidity</th>\n",
       "      <th>wind</th>\n",
       "    </tr>\n",
       "    <tr>\n",
       "      <th>location</th>\n",
       "      <th></th>\n",
       "      <th></th>\n",
       "      <th></th>\n",
       "      <th></th>\n",
       "      <th></th>\n",
       "      <th></th>\n",
       "      <th></th>\n",
       "    </tr>\n",
       "  </thead>\n",
       "  <tbody>\n",
       "    <tr>\n",
       "      <th>Back Bay</th>\n",
       "      <td>39.082122</td>\n",
       "      <td>0.678432</td>\n",
       "      <td>1008.447820</td>\n",
       "      <td>0.007925</td>\n",
       "      <td>1.543857e+09</td>\n",
       "      <td>0.764073</td>\n",
       "      <td>6.778528</td>\n",
       "    </tr>\n",
       "    <tr>\n",
       "      <th>Beacon Hill</th>\n",
       "      <td>39.047285</td>\n",
       "      <td>0.677801</td>\n",
       "      <td>1008.448356</td>\n",
       "      <td>0.008297</td>\n",
       "      <td>1.543857e+09</td>\n",
       "      <td>0.765048</td>\n",
       "      <td>6.810325</td>\n",
       "    </tr>\n",
       "    <tr>\n",
       "      <th>Boston University</th>\n",
       "      <td>39.047744</td>\n",
       "      <td>0.679235</td>\n",
       "      <td>1008.459254</td>\n",
       "      <td>0.007738</td>\n",
       "      <td>1.543857e+09</td>\n",
       "      <td>0.763786</td>\n",
       "      <td>6.692180</td>\n",
       "    </tr>\n",
       "    <tr>\n",
       "      <th>Fenway</th>\n",
       "      <td>38.964379</td>\n",
       "      <td>0.679866</td>\n",
       "      <td>1008.453289</td>\n",
       "      <td>0.007343</td>\n",
       "      <td>1.543857e+09</td>\n",
       "      <td>0.767266</td>\n",
       "      <td>6.711721</td>\n",
       "    </tr>\n",
       "    <tr>\n",
       "      <th>Financial District</th>\n",
       "      <td>39.410822</td>\n",
       "      <td>0.676730</td>\n",
       "      <td>1008.435793</td>\n",
       "      <td>0.008563</td>\n",
       "      <td>1.543857e+09</td>\n",
       "      <td>0.754837</td>\n",
       "      <td>6.860019</td>\n",
       "    </tr>\n",
       "    <tr>\n",
       "      <th>Haymarket Square</th>\n",
       "      <td>39.067897</td>\n",
       "      <td>0.676711</td>\n",
       "      <td>1008.445239</td>\n",
       "      <td>0.008660</td>\n",
       "      <td>1.543857e+09</td>\n",
       "      <td>0.764837</td>\n",
       "      <td>6.843193</td>\n",
       "    </tr>\n",
       "    <tr>\n",
       "      <th>North End</th>\n",
       "      <td>39.090841</td>\n",
       "      <td>0.676730</td>\n",
       "      <td>1008.441912</td>\n",
       "      <td>0.008644</td>\n",
       "      <td>1.543857e+09</td>\n",
       "      <td>0.764054</td>\n",
       "      <td>6.853117</td>\n",
       "    </tr>\n",
       "    <tr>\n",
       "      <th>North Station</th>\n",
       "      <td>39.035315</td>\n",
       "      <td>0.676998</td>\n",
       "      <td>1008.442811</td>\n",
       "      <td>0.008649</td>\n",
       "      <td>1.543857e+09</td>\n",
       "      <td>0.765545</td>\n",
       "      <td>6.835755</td>\n",
       "    </tr>\n",
       "    <tr>\n",
       "      <th>Northeastern University</th>\n",
       "      <td>38.975086</td>\n",
       "      <td>0.678317</td>\n",
       "      <td>1008.444168</td>\n",
       "      <td>0.007358</td>\n",
       "      <td>1.543857e+09</td>\n",
       "      <td>0.767648</td>\n",
       "      <td>6.749426</td>\n",
       "    </tr>\n",
       "    <tr>\n",
       "      <th>South Station</th>\n",
       "      <td>39.394092</td>\n",
       "      <td>0.677495</td>\n",
       "      <td>1008.438031</td>\n",
       "      <td>0.008310</td>\n",
       "      <td>1.543857e+09</td>\n",
       "      <td>0.755468</td>\n",
       "      <td>6.848948</td>\n",
       "    </tr>\n",
       "    <tr>\n",
       "      <th>Theatre District</th>\n",
       "      <td>38.986711</td>\n",
       "      <td>0.677763</td>\n",
       "      <td>1008.444742</td>\n",
       "      <td>0.008405</td>\n",
       "      <td>1.543857e+09</td>\n",
       "      <td>0.767992</td>\n",
       "      <td>6.834302</td>\n",
       "    </tr>\n",
       "    <tr>\n",
       "      <th>West End</th>\n",
       "      <td>38.983403</td>\n",
       "      <td>0.677247</td>\n",
       "      <td>1008.441090</td>\n",
       "      <td>0.008657</td>\n",
       "      <td>1.543857e+09</td>\n",
       "      <td>0.767266</td>\n",
       "      <td>6.816233</td>\n",
       "    </tr>\n",
       "  </tbody>\n",
       "</table>\n",
       "</div>"
      ],
      "text/plain": [
       "                              temp    clouds     pressure      rain  \\\n",
       "location                                                              \n",
       "Back Bay                 39.082122  0.678432  1008.447820  0.007925   \n",
       "Beacon Hill              39.047285  0.677801  1008.448356  0.008297   \n",
       "Boston University        39.047744  0.679235  1008.459254  0.007738   \n",
       "Fenway                   38.964379  0.679866  1008.453289  0.007343   \n",
       "Financial District       39.410822  0.676730  1008.435793  0.008563   \n",
       "Haymarket Square         39.067897  0.676711  1008.445239  0.008660   \n",
       "North End                39.090841  0.676730  1008.441912  0.008644   \n",
       "North Station            39.035315  0.676998  1008.442811  0.008649   \n",
       "Northeastern University  38.975086  0.678317  1008.444168  0.007358   \n",
       "South Station            39.394092  0.677495  1008.438031  0.008310   \n",
       "Theatre District         38.986711  0.677763  1008.444742  0.008405   \n",
       "West End                 38.983403  0.677247  1008.441090  0.008657   \n",
       "\n",
       "                           time_stamp  humidity      wind  \n",
       "location                                                   \n",
       "Back Bay                 1.543857e+09  0.764073  6.778528  \n",
       "Beacon Hill              1.543857e+09  0.765048  6.810325  \n",
       "Boston University        1.543857e+09  0.763786  6.692180  \n",
       "Fenway                   1.543857e+09  0.767266  6.711721  \n",
       "Financial District       1.543857e+09  0.754837  6.860019  \n",
       "Haymarket Square         1.543857e+09  0.764837  6.843193  \n",
       "North End                1.543857e+09  0.764054  6.853117  \n",
       "North Station            1.543857e+09  0.765545  6.835755  \n",
       "Northeastern University  1.543857e+09  0.767648  6.749426  \n",
       "South Station            1.543857e+09  0.755468  6.848948  \n",
       "Theatre District         1.543857e+09  0.767992  6.834302  \n",
       "West End                 1.543857e+09  0.767266  6.816233  "
      ]
     },
     "execution_count": 10,
     "metadata": {},
     "output_type": "execute_result"
    }
   ],
   "source": [
    "Weatherdata.groupby('location').mean()"
   ]
  },
  {
   "cell_type": "code",
   "execution_count": 11,
   "metadata": {},
   "outputs": [],
   "source": [
    "# why do i need a specify axis what is 0 vs 1 \n",
    "avg_weather = Weatherdata.groupby('location').mean()\n",
    "avg_weather = Weatherdata.drop('time_stamp', axis = 1)"
   ]
  },
  {
   "cell_type": "code",
   "execution_count": 12,
   "metadata": {},
   "outputs": [],
   "source": [
    "from_weather = avg_weather.rename(columns = {\n",
    "                                            'location': 'source',\n",
    "                                            'temp' : 'source_temp',\n",
    "                                            'clouds': 'source_clouds',\n",
    "                                           'pressure': 'source_pressure',\n",
    "                                           'rain': 'source_rain',\n",
    "                                            'humidity': 'source_humidity',\n",
    "                                           'wind': 'source_wind' })"
   ]
  },
  {
   "cell_type": "code",
   "execution_count": 13,
   "metadata": {},
   "outputs": [],
   "source": [
    "to_weather = avg_weather.rename(columns = {\n",
    "                                            'location': 'destination',\n",
    "                                            'temp' : 'destination_temp',\n",
    "                                            'clouds': 'destination_clouds',\n",
    "                                           'pressure': 'destination_pressure',\n",
    "                                           'rain': 'destination_rain',\n",
    "                                            'humidity': 'destination_humidity',\n",
    "                                           'wind': 'destination_wind' })"
   ]
  },
  {
   "cell_type": "code",
   "execution_count": 14,
   "metadata": {},
   "outputs": [
    {
     "data": {
      "text/html": [
       "<div>\n",
       "<style scoped>\n",
       "    .dataframe tbody tr th:only-of-type {\n",
       "        vertical-align: middle;\n",
       "    }\n",
       "\n",
       "    .dataframe tbody tr th {\n",
       "        vertical-align: top;\n",
       "    }\n",
       "\n",
       "    .dataframe thead th {\n",
       "        text-align: right;\n",
       "    }\n",
       "</style>\n",
       "<table border=\"1\" class=\"dataframe\">\n",
       "  <thead>\n",
       "    <tr style=\"text-align: right;\">\n",
       "      <th></th>\n",
       "      <th>source_temp</th>\n",
       "      <th>source</th>\n",
       "      <th>source_clouds</th>\n",
       "      <th>source_pressure</th>\n",
       "      <th>source_rain</th>\n",
       "      <th>source_humidity</th>\n",
       "      <th>source_wind</th>\n",
       "    </tr>\n",
       "  </thead>\n",
       "  <tbody>\n",
       "    <tr>\n",
       "      <th>0</th>\n",
       "      <td>42.42</td>\n",
       "      <td>Back Bay</td>\n",
       "      <td>1.00</td>\n",
       "      <td>1012.14</td>\n",
       "      <td>0.1228</td>\n",
       "      <td>0.77</td>\n",
       "      <td>11.25</td>\n",
       "    </tr>\n",
       "    <tr>\n",
       "      <th>1</th>\n",
       "      <td>42.43</td>\n",
       "      <td>Beacon Hill</td>\n",
       "      <td>1.00</td>\n",
       "      <td>1012.15</td>\n",
       "      <td>0.1846</td>\n",
       "      <td>0.76</td>\n",
       "      <td>11.32</td>\n",
       "    </tr>\n",
       "    <tr>\n",
       "      <th>2</th>\n",
       "      <td>42.50</td>\n",
       "      <td>Boston University</td>\n",
       "      <td>1.00</td>\n",
       "      <td>1012.15</td>\n",
       "      <td>0.1089</td>\n",
       "      <td>0.76</td>\n",
       "      <td>11.07</td>\n",
       "    </tr>\n",
       "    <tr>\n",
       "      <th>3</th>\n",
       "      <td>42.11</td>\n",
       "      <td>Fenway</td>\n",
       "      <td>1.00</td>\n",
       "      <td>1012.13</td>\n",
       "      <td>0.0969</td>\n",
       "      <td>0.77</td>\n",
       "      <td>11.09</td>\n",
       "    </tr>\n",
       "    <tr>\n",
       "      <th>4</th>\n",
       "      <td>43.13</td>\n",
       "      <td>Financial District</td>\n",
       "      <td>1.00</td>\n",
       "      <td>1012.14</td>\n",
       "      <td>0.1786</td>\n",
       "      <td>0.75</td>\n",
       "      <td>11.49</td>\n",
       "    </tr>\n",
       "    <tr>\n",
       "      <th>...</th>\n",
       "      <td>...</td>\n",
       "      <td>...</td>\n",
       "      <td>...</td>\n",
       "      <td>...</td>\n",
       "      <td>...</td>\n",
       "      <td>...</td>\n",
       "      <td>...</td>\n",
       "    </tr>\n",
       "    <tr>\n",
       "      <th>6271</th>\n",
       "      <td>44.72</td>\n",
       "      <td>North Station</td>\n",
       "      <td>0.89</td>\n",
       "      <td>1000.69</td>\n",
       "      <td>0.0000</td>\n",
       "      <td>0.96</td>\n",
       "      <td>1.52</td>\n",
       "    </tr>\n",
       "    <tr>\n",
       "      <th>6272</th>\n",
       "      <td>44.85</td>\n",
       "      <td>Northeastern University</td>\n",
       "      <td>0.88</td>\n",
       "      <td>1000.71</td>\n",
       "      <td>0.0000</td>\n",
       "      <td>0.96</td>\n",
       "      <td>1.54</td>\n",
       "    </tr>\n",
       "    <tr>\n",
       "      <th>6273</th>\n",
       "      <td>44.82</td>\n",
       "      <td>South Station</td>\n",
       "      <td>0.89</td>\n",
       "      <td>1000.70</td>\n",
       "      <td>0.0000</td>\n",
       "      <td>0.96</td>\n",
       "      <td>1.54</td>\n",
       "    </tr>\n",
       "    <tr>\n",
       "      <th>6274</th>\n",
       "      <td>44.78</td>\n",
       "      <td>Theatre District</td>\n",
       "      <td>0.89</td>\n",
       "      <td>1000.70</td>\n",
       "      <td>0.0000</td>\n",
       "      <td>0.96</td>\n",
       "      <td>1.54</td>\n",
       "    </tr>\n",
       "    <tr>\n",
       "      <th>6275</th>\n",
       "      <td>44.69</td>\n",
       "      <td>West End</td>\n",
       "      <td>0.89</td>\n",
       "      <td>1000.70</td>\n",
       "      <td>0.0000</td>\n",
       "      <td>0.96</td>\n",
       "      <td>1.52</td>\n",
       "    </tr>\n",
       "  </tbody>\n",
       "</table>\n",
       "<p>6276 rows × 7 columns</p>\n",
       "</div>"
      ],
      "text/plain": [
       "      source_temp                   source  source_clouds  source_pressure  \\\n",
       "0           42.42                 Back Bay           1.00          1012.14   \n",
       "1           42.43              Beacon Hill           1.00          1012.15   \n",
       "2           42.50        Boston University           1.00          1012.15   \n",
       "3           42.11                   Fenway           1.00          1012.13   \n",
       "4           43.13       Financial District           1.00          1012.14   \n",
       "...           ...                      ...            ...              ...   \n",
       "6271        44.72            North Station           0.89          1000.69   \n",
       "6272        44.85  Northeastern University           0.88          1000.71   \n",
       "6273        44.82            South Station           0.89          1000.70   \n",
       "6274        44.78         Theatre District           0.89          1000.70   \n",
       "6275        44.69                 West End           0.89          1000.70   \n",
       "\n",
       "      source_rain  source_humidity  source_wind  \n",
       "0          0.1228             0.77        11.25  \n",
       "1          0.1846             0.76        11.32  \n",
       "2          0.1089             0.76        11.07  \n",
       "3          0.0969             0.77        11.09  \n",
       "4          0.1786             0.75        11.49  \n",
       "...           ...              ...          ...  \n",
       "6271       0.0000             0.96         1.52  \n",
       "6272       0.0000             0.96         1.54  \n",
       "6273       0.0000             0.96         1.54  \n",
       "6274       0.0000             0.96         1.54  \n",
       "6275       0.0000             0.96         1.52  \n",
       "\n",
       "[6276 rows x 7 columns]"
      ]
     },
     "execution_count": 14,
     "metadata": {},
     "output_type": "execute_result"
    }
   ],
   "source": [
    "from_weather"
   ]
  },
  {
   "cell_type": "code",
   "execution_count": 15,
   "metadata": {},
   "outputs": [
    {
     "data": {
      "text/plain": [
       "Index(['destination_temp', 'destination', 'destination_clouds',\n",
       "       'destination_pressure', 'destination_rain', 'destination_humidity',\n",
       "       'destination_wind'],\n",
       "      dtype='object')"
      ]
     },
     "execution_count": 15,
     "metadata": {},
     "output_type": "execute_result"
    }
   ],
   "source": [
    "to_weather.columns"
   ]
  },
  {
   "cell_type": "code",
   "execution_count": null,
   "metadata": {},
   "outputs": [],
   "source": [
    "data1 = Ridedata.merge(from_weather, on= 'source')"
   ]
  },
  {
   "cell_type": "code",
   "execution_count": null,
   "metadata": {},
   "outputs": [],
   "source": [
    "data1"
   ]
  },
  {
   "cell_type": "code",
   "execution_count": null,
   "metadata": {},
   "outputs": [],
   "source": []
  },
  {
   "cell_type": "code",
   "execution_count": null,
   "metadata": {},
   "outputs": [],
   "source": [
    "\n"
   ]
  },
  {
   "cell_type": "code",
   "execution_count": null,
   "metadata": {},
   "outputs": [],
   "source": []
  },
  {
   "cell_type": "code",
   "execution_count": null,
   "metadata": {},
   "outputs": [],
   "source": []
  },
  {
   "cell_type": "code",
   "execution_count": null,
   "metadata": {},
   "outputs": [],
   "source": []
  },
  {
   "cell_type": "code",
   "execution_count": null,
   "metadata": {},
   "outputs": [],
   "source": []
  },
  {
   "cell_type": "code",
   "execution_count": null,
   "metadata": {},
   "outputs": [],
   "source": []
  },
  {
   "cell_type": "code",
   "execution_count": null,
   "metadata": {},
   "outputs": [],
   "source": []
  },
  {
   "cell_type": "code",
   "execution_count": null,
   "metadata": {},
   "outputs": [],
   "source": []
  },
  {
   "cell_type": "code",
   "execution_count": null,
   "metadata": {},
   "outputs": [],
   "source": []
  },
  {
   "cell_type": "code",
   "execution_count": null,
   "metadata": {},
   "outputs": [],
   "source": []
  },
  {
   "cell_type": "code",
   "execution_count": null,
   "metadata": {},
   "outputs": [],
   "source": []
  },
  {
   "cell_type": "code",
   "execution_count": null,
   "metadata": {},
   "outputs": [],
   "source": []
  }
 ],
 "metadata": {
  "kernelspec": {
   "display_name": "Python 3",
   "language": "python",
   "name": "python3"
  },
  "language_info": {
   "codemirror_mode": {
    "name": "ipython",
    "version": 3
   },
   "file_extension": ".py",
   "mimetype": "text/x-python",
   "name": "python",
   "nbconvert_exporter": "python",
   "pygments_lexer": "ipython3",
   "version": "3.8.5"
  }
 },
 "nbformat": 4,
 "nbformat_minor": 4
}
